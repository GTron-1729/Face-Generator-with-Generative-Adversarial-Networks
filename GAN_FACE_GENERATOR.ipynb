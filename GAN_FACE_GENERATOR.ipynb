{
  "nbformat": 4,
  "nbformat_minor": 0,
  "metadata": {
    "colab": {
      "name": "GAN_FACE_GENERATOR.ipynb",
      "provenance": []
    },
    "kernelspec": {
      "name": "python3",
      "display_name": "Python 3"
    }
  },
  "cells": [
    {
      "cell_type": "code",
      "metadata": {
        "colab_type": "code",
        "id": "KubxTY1mdiDm",
        "colab": {}
      },
      "source": [
        "#All Necessary import statements\n",
        "import tensorflow as tf\n",
        "from tensorflow.keras.layers import Input, Reshape, Dropout, Dense \n",
        "from tensorflow.keras.layers import Flatten, BatchNormalization\n",
        "from tensorflow.keras.layers import Activation, ZeroPadding2D\n",
        "from tensorflow.keras.layers import LeakyReLU\n",
        "from tensorflow.keras.layers import UpSampling2D, Conv2D\n",
        "from tensorflow.keras.models import Sequential, Model, load_model\n",
        "from tensorflow.keras.optimizers import Adam\n",
        "import numpy as np\n",
        "from PIL import Image\n",
        "from tqdm import tqdm\n",
        "import os \n",
        "import time\n",
        "import matplotlib.pyplot as plt"
      ],
      "execution_count": 1,
      "outputs": []
    },
    {
      "cell_type": "code",
      "metadata": {
        "colab_type": "code",
        "id": "tb_XblE7diDr",
        "colab": {
          "base_uri": "https://localhost:8080/",
          "height": 34
        },
        "outputId": "495b75eb-58a9-40aa-dd7e-b043140a3c07"
      },
      "source": [
        "# Generation resolution - Must be square \n",
        "# Training data is also scaled to this.\n",
        "# Note GENERATE_RES 4 or higher  \n",
        "# may blow Google CoLab's memory\n",
        "GENERATE_RES = 3 # Generation resolution factor \n",
        "# (1=32, 2=64, 3=96, 4=128, etc.)\n",
        "GENERATE_SQUARE = 32 * GENERATE_RES # rows/cols (should be square)\n",
        "IMAGE_CHANNELS = 3\n",
        "\n",
        "# Preview image \n",
        "PREVIEW_ROWS = 4\n",
        "PREVIEW_COLS = 7\n",
        "PREVIEW_MARGIN = 16\n",
        "\n",
        "# Size vector to generate images from\n",
        "SEED_SIZE = 100\n",
        "\n",
        "# Configuration\n",
        "DATA_PATH = '/content/drive/My Drive/GAN'\n",
        "EPOCHS = 50\n",
        "BATCH_SIZE = 32\n",
        "BUFFER_SIZE = 60000\n",
        "\n",
        "print(f\"Will generate {GENERATE_SQUARE}px square images.\")"
      ],
      "execution_count": 20,
      "outputs": [
        {
          "output_type": "stream",
          "text": [
            "Will generate 96px square images.\n"
          ],
          "name": "stdout"
        }
      ]
    },
    {
      "cell_type": "code",
      "metadata": {
        "id": "htsa5JSaMAVV",
        "colab_type": "code",
        "colab": {}
      },
      "source": [
        "def hms_string(sec_elapsed):\n",
        "    h = int(sec_elapsed / (60 * 60))\n",
        "    m = int((sec_elapsed % (60 * 60)) / 60)\n",
        "    s = sec_elapsed % 60\n",
        "    return \"{}:{:>02}:{:>05.2f}\".format(h, m, s)"
      ],
      "execution_count": 21,
      "outputs": []
    },
    {
      "cell_type": "code",
      "metadata": {
        "colab_type": "code",
        "id": "dJ69ALfSdiDv",
        "colab": {}
      },
      "source": [
        "# Image set has 11,682 images.  Can take over an hour \n",
        "# for initial preprocessing.\n",
        "# Because of this time needed, save a Numpy preprocessed file.\n",
        "# Note, that file is large enough to cause problems for \n",
        "# sume verisons of Pickle,\n",
        "# so Numpy binary files are used.\n",
        "\n",
        "# Now paths are joined with'/' directory separator\n",
        "# F-strings provide a concise and convenient way to embed python expressions inside string literals for formatting.\n",
        "training_binary_path = os.path.join(DATA_PATH,\n",
        "        f'training_data_{GENERATE_SQUARE}_{GENERATE_SQUARE}.npy')\n",
        "\n",
        "print(f\"Looking for file: {training_binary_path}\")\n",
        "\n",
        "# os.path.isfile() method in Python is used to check whether the specified path is an existing regular file or not.\n",
        "if not os.path.isfile(training_binary_path):\n",
        "  start = time.time()\n",
        "  print(\"Loading training images...\")\n",
        "\n",
        "  training_data = []\n",
        "  data_path = os.path.join(DATA_PATH,'images')\n",
        "\n",
        "  # os.listdir method returns a list containing the names of the entries in the directory given by path.\n",
        "  # tqdm Instantly make your loops show a smart progress meter - just wrap any iterable with tqdm(iterable), and you’re done!\n",
        "  # data path is whole path to images till now\n",
        "  for filename in tqdm(os.listdir(data_path)):\n",
        "      path = os.path.join(data_path,filename)\n",
        "      # path is the name of image inside directory\n",
        "\n",
        "      image = Image.open(path).resize((GENERATE_SQUARE,\n",
        "            GENERATE_SQUARE),Image.ANTIALIAS)\n",
        "      # The requested size in pixels, as a 2-tuple: (width, height).\n",
        "      # here image is actual resized image \n",
        "      training_data.append(np.asarray(image))\n",
        "      # Now training data has np array for first image\n",
        "  training_data = np.reshape(training_data,(-1,GENERATE_SQUARE,\n",
        "            GENERATE_SQUARE,IMAGE_CHANNELS))\n",
        "  # This shapes the array to our desired GENERATE_SQUARE shape\n",
        "  training_data = training_data.astype(np.float32)\n",
        "  # Covert all values to float32\n",
        "  training_data = training_data / 127.5 - 1.\n",
        "  # It's like the purpose of this normalization is to bring the values in range [-1.0,1.0]\n",
        "\n",
        "\n",
        "  print(\"Saving training image binary...\")\n",
        "  np.save(training_binary_path,training_data)\n",
        "  # resultant array is stored in a file with first argument as name with extention as npy which can be load using np.load()\n",
        "  elapsed = time.time()-start\n",
        "  # this would give total seconds passed till now\n",
        "  print (f'Image preprocess time: {hms_string(elapsed)}')\n",
        "else:\n",
        "  print(\"Loading previous training pickle...\")\n",
        "  training_data = np.load(training_binary_path)"
      ],
      "execution_count": null,
      "outputs": []
    },
    {
      "cell_type": "code",
      "metadata": {
        "id": "hmU5KpcxMtoP",
        "colab_type": "code",
        "colab": {}
      },
      "source": [
        "train_dataset = tf.data.Dataset.from_tensor_slices(training_data) \n",
        "    .shuffle(BUFFER_SIZE).batch(BATCH_SIZE)\n",
        "    # .batch will take first BATCH_SIZE entries and make a batch out of them\n",
        "    # .shuffle will allocate a buffer of our size for picking random entries. This buffer will be connected to the source dataset\n",
        "    #  and this reading goes on until both buffer and source are empty\n",
        "    #  TensorFlow Dataset object to actually hold the images. This allows the data to be quickly shuffled \n",
        "    #  and divide into the appropriate batch sizes for training. and shuffle and batch are methods used on that object with desired value"
      ],
      "execution_count": 7,
      "outputs": []
    },
    {
      "cell_type": "code",
      "metadata": {
        "id": "N6-bG4U6EeuR",
        "colab_type": "code",
        "colab": {}
      },
      "source": [
        "def build_generator(seed_size, channels):\n",
        "    model = Sequential()\n",
        "    # initialized a sequential model A Sequential model \n",
        "    # is appropriate for a plain stack of layers where each layer has exactly one input tensor and one output tensor.\n",
        "\n",
        "    model.add(Dense(4*4*256,activation=\"relu\",input_dim=seed_size))\n",
        "    # first layer with 4x4x256 neurons ( It is preferred to use 2 to the power number)  and range of all values in in lies within seed_size\n",
        "    # ReLU stands for rectified linear unit, and is a type of activation function. Mathematically, it is defined as y = max(0, x).\n",
        "    # generally if no idea relu is often prefered to be a starting function\n",
        "    model.add(Reshape((4,4,256)))\n",
        "    # This layer reshapes the input to particular shape\n",
        "\n",
        "    model.add(UpSampling2D())\n",
        "    # The generator model is typically implemented using a deep convolutional neural network \n",
        "    # and results-specialized layers that learn to fill in features in an image rather than extract features from an input image.\n",
        "    # (UpSampling2D) simply doubles the dimensions of the input \n",
        "    model.add(Conv2D(256,kernel_size=3,padding=\"same\"))\n",
        "    # 2D Convolution Layer, this layer creates a convolution kernel that is wind with layers input which helps produce a tensor of outputs.\n",
        "    # kernel are preferrrably odd number integer (can be tuple (1,1)) because odd numbers are symmetric wrt to origin.\n",
        "    # padding takes 2 values if \"valid\" means input volume is not zero padded and size can reduce if \"same\" it is padded\n",
        "    model.add(BatchNormalization(momentum=0.8))\n",
        "    # The general use case is to use BN between the linear and non-linear layers in your network, because it normalizes the input \n",
        "    # to your activation function, so that you're centered in the linear section of the activation function means of inputs =0 and sd=1. \n",
        "    model.add(Activation(\"relu\"))\n",
        "    # This activation layer does the non-linear transformation to the input making it capable to learn and perform more complex tasks.\n",
        "\n",
        "    model.add(UpSampling2D())\n",
        "    model.add(Conv2D(256,kernel_size=3,padding=\"same\"))\n",
        "    model.add(BatchNormalization(momentum=0.8))\n",
        "    # momentum for moving mean\n",
        "    model.add(Activation(\"relu\"))\n",
        "   \n",
        "    # Output resolution, additional upsampling\n",
        "    model.add(UpSampling2D())\n",
        "    model.add(Conv2D(128,kernel_size=3,padding=\"same\"))\n",
        "    model.add(BatchNormalization(momentum=0.8))\n",
        "    model.add(Activation(\"relu\"))\n",
        "\n",
        "    if GENERATE_RES>1:\n",
        "      model.add(UpSampling2D(size=(GENERATE_RES,GENERATE_RES)))\n",
        "      model.add(Conv2D(128,kernel_size=3,padding=\"same\"))\n",
        "      model.add(BatchNormalization(momentum=0.8))\n",
        "      model.add(Activation(\"relu\"))\n",
        "\n",
        "    # Final CNN layer\n",
        "    model.add(Conv2D(channels,kernel_size=3,padding=\"same\"))\n",
        "    model.add(Activation(\"tanh\"))\n",
        "    # The advantage is that the negative inputs will be mapped strongly negative and \n",
        "    # the zero inputs will be mapped near zero in the tanh graph.\n",
        "\n",
        "    return model\n",
        "\n",
        "\n",
        "def build_discriminator(image_shape):\n",
        "    model = Sequential()\n",
        "\n",
        "    model.add(Conv2D(32, kernel_size=3, strides=2, input_shape=image_shape, \n",
        "                     padding=\"same\"))\n",
        "    # Its default value is always set to (1, 1) which means that the given Conv2D filter is \n",
        "    # applied to the current location of the input volume and the given filter takes a 1-pixel step to the\n",
        "    # right and again the filter is applied to the input volume and it is performed until we reach the far right border of\n",
        "    # the volume in which we are moving our filter.\n",
        "    model.add(LeakyReLU(alpha=0.2))\n",
        "    # Different from the regular ReLU function, Leaky ReLU allows the pass of a small gradient signal for negative values\n",
        "    # Instead of passing a gradient (slope) of 0 in the back-prop pass, it passes a small negative gradient. 0.01x\n",
        "\n",
        "    model.add(Dropout(0.25))\n",
        "    #  dropout and offers a very computationally cheap and remarkably effective regularization method \n",
        "    #  to reduce overfitting and improve generalization error in deep neural networks of all kinds.\n",
        "    model.add(Conv2D(64, kernel_size=3, strides=2, padding=\"same\"))\n",
        "    model.add(ZeroPadding2D(padding=((0,1),(0,1))))\n",
        "    # This layer can add rows and columns of given numbers at the top, bottom, left and right side of an image tensor.\n",
        "    model.add(BatchNormalization(momentum=0.8))\n",
        "    model.add(LeakyReLU(alpha=0.2))\n",
        "\n",
        "    model.add(Dropout(0.25))\n",
        "    #  As a rule of thumb, place the dropout after the activate function for all activation functions other than relu. \n",
        "    # In passing 0.5, every neuron is set to 0 with a probability of 0.5. In other words, there’s a 50% change \n",
        "    # that the output of a given neuron will be forced to 0.\n",
        "    model.add(Conv2D(128, kernel_size=3, strides=2, padding=\"same\"))\n",
        "    model.add(BatchNormalization(momentum=0.8))\n",
        "    model.add(LeakyReLU(alpha=0.2))\n",
        "\n",
        "    model.add(Dropout(0.25))\n",
        "    model.add(Conv2D(256, kernel_size=3, strides=1, padding=\"same\"))\n",
        "    model.add(BatchNormalization(momentum=0.8))\n",
        "    model.add(LeakyReLU(alpha=0.2))\n",
        "\n",
        "    model.add(Dropout(0.25))\n",
        "    model.add(Conv2D(512, kernel_size=3, strides=1, padding=\"same\"))\n",
        "    model.add(BatchNormalization(momentum=0.8))\n",
        "    model.add(LeakyReLU(alpha=0.2))\n",
        "\n",
        "    model.add(Dropout(0.25))\n",
        "    model.add(Flatten())\n",
        "    # Flatten is used to flatten the input. For example, if flatten is applied to layer having input \n",
        "    # shape as (batch_size, 2,2), then the output shape of the layer will be (batch_size, 4)\n",
        "    model.add(Dense(1, activation='sigmoid'))\n",
        "\n",
        "    return model"
      ],
      "execution_count": 8,
      "outputs": []
    },
    {
      "cell_type": "code",
      "metadata": {
        "id": "EcgbYX5sEpUS",
        "colab_type": "code",
        "colab": {}
      },
      "source": [
        "# As we progress through training images will be produced to show the progress. These images will contain a number of rendered faces that \n",
        "# show how good the generator has become. These faces will be\n",
        "def save_images(cnt,noise):\n",
        "  image_array = np.full(( \n",
        "      PREVIEW_MARGIN + (PREVIEW_ROWS * (GENERATE_SQUARE+PREVIEW_MARGIN)), \n",
        "      PREVIEW_MARGIN + (PREVIEW_COLS * (GENERATE_SQUARE+PREVIEW_MARGIN)), 3), \n",
        "      255, dtype=np.uint8)\n",
        "  # here the the matrix generated by rows and columns are filled with value 255 where matrix has margins to accomodate multiple images\n",
        "  \n",
        "  generated_images = generator.predict(noise)\n",
        "  # this will come later\n",
        "\n",
        "  generated_images = 0.5 * generated_images + 0.5\n",
        "  # normalized images are generated and stored in an np array\n",
        "\n",
        "  image_count = 0\n",
        "  for row in range(PREVIEW_ROWS):\n",
        "      for col in range(PREVIEW_COLS):\n",
        "        r = row * (GENERATE_SQUARE+16) + PREVIEW_MARGIN\n",
        "        c = col * (GENERATE_SQUARE+16) + PREVIEW_MARGIN\n",
        "        image_array[r:r+GENERATE_SQUARE,c:c+GENERATE_SQUARE] \n",
        "            = generated_images[image_count] * 255\n",
        "        # this image is loaded into our image_Array genetrated first \n",
        "        image_count += 1\n",
        "\n",
        "          \n",
        "  output_path = os.path.join(DATA_PATH,'output')\n",
        "  if not os.path.exists(output_path):\n",
        "    os.makedirs(output_path)\n",
        "  \n",
        "  filename = os.path.join(output_path,f\"train-{cnt}.png\")\n",
        "  im = Image.fromarray(image_array)\n",
        "  # Then this can be used to convert it to a Pillow image from np array\n",
        "  im.save(filename)\n",
        "  # image is saved in filename location"
      ],
      "execution_count": 9,
      "outputs": []
    },
    {
      "cell_type": "code",
      "metadata": {
        "id": "sltZmjfkEteJ",
        "colab_type": "code",
        "colab": {
          "base_uri": "https://localhost:8080/",
          "height": 285
        },
        "outputId": "047eb4cf-d068-425d-d3ff-17e156d1e8b5"
      },
      "source": [
        "generator = build_generator(SEED_SIZE, IMAGE_CHANNELS)\n",
        "# this is passed to model above\n",
        "# generator is our main generator model\n",
        "noise = tf.random.normal([1, SEED_SIZE])\n",
        "# shape means number of rows and first arg here is shape and SEED_SIZE is the range from where values should be picked\n",
        "generated_image = generator(noise, training=False)\n",
        "\n",
        "plt.imshow(generated_image[0, :, :, 0])\n",
        "# So when you use, im[:, :, 0], it would write the first channel. Therefore you will get a grayscale image. and here from the matrix we \n",
        "# print first image"
      ],
      "execution_count": 11,
      "outputs": [
        {
          "output_type": "execute_result",
          "data": {
            "text/plain": [
              "<matplotlib.image.AxesImage at 0x7f80a0079278>"
            ]
          },
          "metadata": {
            "tags": []
          },
          "execution_count": 11
        },
        {
          "output_type": "display_data",
          "data": {
            "image/png": "[encoded data removed]",
            "text/plain": [
              "<Figure size 432x288 with 1 Axes>"
            ]
          },
          "metadata": {
            "tags": [],
            "needs_background": "light"
          }
        }
      ]
    },
    {
      "cell_type": "code",
      "metadata": {
        "id": "T8tXDYDXExU8",
        "colab_type": "code",
        "colab": {
          "base_uri": "https://localhost:8080/",
          "height": 229
        },
        "outputId": "bc4403ff-a7e2-47ac-a162-a3cd5a1a0cac"
      },
      "source": [
        "image_shape = (GENERATE_SQUARE,GENERATE_SQUARE,IMAGE_CHANNELS)\n",
        "# declare an image \n",
        "discriminator = build_discriminator(image_shape)\n",
        "# pass that to the discriminator and return the model\n",
        "decision = discriminator(generated_image)\n",
        "# pass generator generated images to descriminator\n",
        "print (decision)"
      ],
      "execution_count": 2,
      "outputs": [
        {
          "output_type": "error",
          "ename": "NameError",
          "evalue": "ignored",
          "traceback": [
            "\u001b[0;31m---------------------------------------------------------------------------\u001b[0m",
            "\u001b[0;31mNameError\u001b[0m                                 Traceback (most recent call last)",
            "\u001b[0;32m<ipython-input-2-a6fab7791821>\u001b[0m in \u001b[0;36m<module>\u001b[0;34m()\u001b[0m\n\u001b[0;32m----> 1\u001b[0;31m \u001b[0mimage_shape\u001b[0m \u001b[0;34m=\u001b[0m \u001b[0;34m(\u001b[0m\u001b[0mGENERATE_SQUARE\u001b[0m\u001b[0;34m,\u001b[0m\u001b[0mGENERATE_SQUARE\u001b[0m\u001b[0;34m,\u001b[0m\u001b[0mIMAGE_CHANNELS\u001b[0m\u001b[0;34m)\u001b[0m\u001b[0;34m\u001b[0m\u001b[0;34m\u001b[0m\u001b[0m\n\u001b[0m\u001b[1;32m      2\u001b[0m \u001b[0;31m# declare an image\u001b[0m\u001b[0;34m\u001b[0m\u001b[0;34m\u001b[0m\u001b[0;34m\u001b[0m\u001b[0m\n\u001b[1;32m      3\u001b[0m \u001b[0mdiscriminator\u001b[0m \u001b[0;34m=\u001b[0m \u001b[0mbuild_discriminator\u001b[0m\u001b[0;34m(\u001b[0m\u001b[0mimage_shape\u001b[0m\u001b[0;34m)\u001b[0m\u001b[0;34m\u001b[0m\u001b[0;34m\u001b[0m\u001b[0m\n\u001b[1;32m      4\u001b[0m \u001b[0;31m# pass that to the discriminator and return the model\u001b[0m\u001b[0;34m\u001b[0m\u001b[0;34m\u001b[0m\u001b[0;34m\u001b[0m\u001b[0m\n\u001b[1;32m      5\u001b[0m \u001b[0mdecision\u001b[0m \u001b[0;34m=\u001b[0m \u001b[0mdiscriminator\u001b[0m\u001b[0;34m(\u001b[0m\u001b[0mgenerated_image\u001b[0m\u001b[0;34m)\u001b[0m\u001b[0;34m\u001b[0m\u001b[0;34m\u001b[0m\u001b[0m\n",
            "\u001b[0;31mNameError\u001b[0m: name 'GENERATE_SQUARE' is not defined"
          ]
        }
      ]
    },
    {
      "cell_type": "code",
      "metadata": {
        "id": "aVCm7kp7E62p",
        "colab_type": "code",
        "colab": {}
      },
      "source": [
        "cross_entropy = tf.keras.losses.BinaryCrossentropy(from_logits=True)\n",
        "# It is a Sigmoid activation plus a Cross-Entropy loss. Unlike Softmax loss it is independent for each vector component \n",
        "# (class), meaning that the loss computed for every CNN output vector component is not affected by other component values.\n",
        "# so this is basically logistic so loss evaluated is log loss\n",
        "def discriminator_loss(real_output, fake_output):\n",
        "    real_loss = cross_entropy(tf.ones_like(real_output), real_output)\n",
        "    fake_loss = cross_entropy(tf.zeros_like(fake_output), fake_output)\n",
        "    total_loss = real_loss + fake_loss\n",
        "    return total_loss\n",
        "\n",
        "def generator_loss(fake_output):\n",
        "    return cross_entropy(tf.ones_like(fake_output), fake_output)"
      ],
      "execution_count": 13,
      "outputs": []
    },
    {
      "cell_type": "code",
      "metadata": {
        "id": "bFf6wIV6FArx",
        "colab_type": "code",
        "colab": {}
      },
      "source": [
        "generator_optimizer = tf.keras.optimizers.Adam(1.5e-4,0.5)\n",
        "# Optimizer that implements the Adam algorithm.\n",
        "# Adam is an optimization algorithm that can be used instead of the classical stochastic gradient descent procedure \n",
        "# to update network weights iterative based in training data ( adaptive moment estimation.)\n",
        "# Stochastic gradient descent maintains a single learning rate (termed alpha) for all weight updates and the learning rate \n",
        "# does not change during training. while for adam A learning rate is maintained for each network weight (parameter) \n",
        "# and separately adapted as learning unfolds.\n",
        "discriminator_optimizer = tf.keras.optimizers.Adam(1.5e-4,0.5)\n",
        "# two learning rates"
      ],
      "execution_count": 14,
      "outputs": []
    },
    {
      "cell_type": "code",
      "metadata": {
        "id": "8DGX81cmFDm9",
        "colab_type": "code",
        "colab": {}
      },
      "source": [
        "# Notice the use of `tf.function`\n",
        "# This annotation causes the function to be \"compiled\".\n",
        "@tf.function\n",
        "def train_step(images):\n",
        "  seed = tf.random.normal([BATCH_SIZE, SEED_SIZE])\n",
        "\n",
        "  with tf.GradientTape() as gen_tape, tf.GradientTape() as disc_tape:\n",
        "    # gradient tape cause simulataneous training yet separate training\n",
        "    # Record operations for automatic differentiation.\n",
        "    # why two tapes? The technical reason is that gradient is called twice, which is not allowed on (non-persistent) tapes.\n",
        "    generated_images = generator(seed, training=True)\n",
        "\n",
        "    real_output = discriminator(images, training=True)\n",
        "    fake_output = discriminator(generated_images, training=True)\n",
        "\n",
        "    gen_loss = generator_loss(fake_output)\n",
        "    disc_loss = discriminator_loss(real_output, fake_output)\n",
        "    \n",
        "\n",
        "    gradients_of_generator = gen_tape.gradient(\\\n",
        "        gen_loss, generator.trainable_variables)\n",
        "    # the underlying reason is that training of GANS is typically done by alternating the optimization of the generator and the discriminator\n",
        "    gradients_of_discriminator = disc_tape.gradient(\\\n",
        "        disc_loss, discriminator.trainable_variables)\n",
        "\n",
        "    generator_optimizer.apply_gradients(zip(\n",
        "        gradients_of_generator, generator.trainable_variables))\n",
        "    # trainable variables are all those variables whose value changes due to \n",
        "    # During training, an optimizer gets the content of that collection via tf.trainable_variables() and applies the training to all of them.\n",
        "    discriminator_optimizer.apply_gradients(zip(\n",
        "        gradients_of_discriminator, \n",
        "        discriminator.trainable_variables))\n",
        "  return gen_loss,disc_loss"
      ],
      "execution_count": 15,
      "outputs": []
    },
    {
      "cell_type": "code",
      "metadata": {
        "id": "ymooGujcFH0k",
        "colab_type": "code",
        "colab": {}
      },
      "source": [
        "def train(dataset, epochs):\n",
        "  fixed_seed = np.random.normal(0, 1, (PREVIEW_ROWS * PREVIEW_COLS, \n",
        "                                       SEED_SIZE))\n",
        "  # picks value from normal distribution with first arg as mean=0 and second arg as SD=1\n",
        "  start = time.time()\n",
        "\n",
        "  for epoch in range(epochs):\n",
        "    epoch_start = time.time()\n",
        "\n",
        "    gen_loss_list = []\n",
        "    disc_loss_list = []\n",
        "\n",
        "    for image_batch in dataset:\n",
        "      t = train_step(image_batch)\n",
        "      # return both lossses and the below store them in different lists\n",
        "      gen_loss_list.append(t[0])\n",
        "      disc_loss_list.append(t[1])\n",
        "\n",
        "    g_loss = sum(gen_loss_list) / len(gen_loss_list)\n",
        "    d_loss = sum(disc_loss_list) / len(disc_loss_list)\n",
        "\n",
        "    epoch_elapsed = time.time()-epoch_start\n",
        "    print (f'Epoch {epoch+1}, gen loss={g_loss},disc loss={d_loss},'\\\n",
        "           ' {hms_string(epoch_elapsed)}')\n",
        "    save_images(epoch,fixed_seed)\n",
        "\n",
        "  elapsed = time.time()-start\n",
        "  print (f'Training time: {hms_string(elapsed)}')\n"
      ],
      "execution_count": 16,
      "outputs": []
    },
    {
      "cell_type": "code",
      "metadata": {
        "id": "e54PNeMpFLgx",
        "colab_type": "code",
        "colab": {
          "base_uri": "https://localhost:8080/",
          "height": 874
        },
        "outputId": "7858f687-a6cd-45d7-d015-06d5dc5d6dc4"
      },
      "source": [
        "train(train_dataset, EPOCHS)"
      ],
      "execution_count": 17,
      "outputs": [
        {
          "output_type": "stream",
          "text": [
            "Epoch 1, gen loss=0.6710952520370483,disc loss=1.2710381746292114, {hms_string(epoch_elapsed)}\n",
            "Epoch 2, gen loss=0.6745414137840271,disc loss=1.246140956878662, {hms_string(epoch_elapsed)}\n",
            "Epoch 3, gen loss=0.6781510710716248,disc loss=1.22182297706604, {hms_string(epoch_elapsed)}\n",
            "Epoch 4, gen loss=0.6796154379844666,disc loss=1.2195924520492554, {hms_string(epoch_elapsed)}\n",
            "Epoch 5, gen loss=0.6831667423248291,disc loss=1.2065032720565796, {hms_string(epoch_elapsed)}\n",
            "Epoch 6, gen loss=0.6847158074378967,disc loss=1.2020518779754639, {hms_string(epoch_elapsed)}\n",
            "Epoch 7, gen loss=0.6792387366294861,disc loss=1.1611942052841187, {hms_string(epoch_elapsed)}\n",
            "Epoch 8, gen loss=0.663709819316864,disc loss=1.1599644422531128, {hms_string(epoch_elapsed)}\n",
            "Epoch 9, gen loss=0.6903338432312012,disc loss=1.0163854360580444, {hms_string(epoch_elapsed)}\n",
            "Epoch 10, gen loss=0.6753270030021667,disc loss=1.0947086811065674, {hms_string(epoch_elapsed)}\n",
            "Epoch 11, gen loss=0.6909915208816528,disc loss=1.0135151147842407, {hms_string(epoch_elapsed)}\n",
            "Epoch 12, gen loss=0.6931426525115967,disc loss=1.0065416097640991, {hms_string(epoch_elapsed)}\n",
            "Epoch 13, gen loss=0.6891600489616394,disc loss=1.0264414548873901, {hms_string(epoch_elapsed)}\n",
            "Epoch 14, gen loss=0.6898660063743591,disc loss=1.354686975479126, {hms_string(epoch_elapsed)}\n",
            "Epoch 15, gen loss=0.6931461095809937,disc loss=1.3862922191619873, {hms_string(epoch_elapsed)}\n",
            "Epoch 16, gen loss=0.6931461095809937,disc loss=1.3862922191619873, {hms_string(epoch_elapsed)}\n",
            "Epoch 17, gen loss=0.6931461095809937,disc loss=1.3862922191619873, {hms_string(epoch_elapsed)}\n",
            "Epoch 18, gen loss=0.6931461095809937,disc loss=1.3862920999526978, {hms_string(epoch_elapsed)}\n",
            "Epoch 19, gen loss=0.6931461095809937,disc loss=1.3862919807434082, {hms_string(epoch_elapsed)}\n",
            "Epoch 20, gen loss=0.6931461095809937,disc loss=1.3862922191619873, {hms_string(epoch_elapsed)}\n",
            "Epoch 21, gen loss=0.6931461095809937,disc loss=1.3862922191619873, {hms_string(epoch_elapsed)}\n",
            "Epoch 22, gen loss=0.6931461095809937,disc loss=1.3862922191619873, {hms_string(epoch_elapsed)}\n",
            "Epoch 23, gen loss=0.6931461095809937,disc loss=1.3862920999526978, {hms_string(epoch_elapsed)}\n",
            "Epoch 24, gen loss=0.6931461095809937,disc loss=1.3862922191619873, {hms_string(epoch_elapsed)}\n",
            "Epoch 25, gen loss=0.6931461095809937,disc loss=1.3862922191619873, {hms_string(epoch_elapsed)}\n",
            "Epoch 26, gen loss=0.6931461095809937,disc loss=1.3862922191619873, {hms_string(epoch_elapsed)}\n",
            "Epoch 27, gen loss=0.6871106624603271,disc loss=1.3792330026626587, {hms_string(epoch_elapsed)}\n",
            "Epoch 28, gen loss=0.6930010318756104,disc loss=1.008010745048523, {hms_string(epoch_elapsed)}\n",
            "Epoch 29, gen loss=0.6900535225868225,disc loss=1.0299586057662964, {hms_string(epoch_elapsed)}\n",
            "Epoch 30, gen loss=0.6902644038200378,disc loss=1.0162853002548218, {hms_string(epoch_elapsed)}\n",
            "Epoch 31, gen loss=0.6908654570579529,disc loss=1.0163565874099731, {hms_string(epoch_elapsed)}\n",
            "Epoch 32, gen loss=0.693145751953125,disc loss=1.0064122676849365, {hms_string(epoch_elapsed)}\n",
            "Epoch 33, gen loss=0.6931451559066772,disc loss=1.006409764289856, {hms_string(epoch_elapsed)}\n",
            "Epoch 34, gen loss=0.6931453347206116,disc loss=1.0064095258712769, {hms_string(epoch_elapsed)}\n",
            "Epoch 35, gen loss=0.6931458711624146,disc loss=1.0064159631729126, {hms_string(epoch_elapsed)}\n",
            "Epoch 36, gen loss=0.6929510235786438,disc loss=1.0070040225982666, {hms_string(epoch_elapsed)}\n",
            "Epoch 37, gen loss=0.6908321976661682,disc loss=1.023215413093567, {hms_string(epoch_elapsed)}\n",
            "Epoch 38, gen loss=0.6931461095809937,disc loss=1.0064090490341187, {hms_string(epoch_elapsed)}\n",
            "Epoch 39, gen loss=0.6931461095809937,disc loss=1.006456971168518, {hms_string(epoch_elapsed)}\n",
            "Epoch 40, gen loss=0.6931357383728027,disc loss=1.0064324140548706, {hms_string(epoch_elapsed)}\n",
            "Epoch 41, gen loss=0.6931461095809937,disc loss=1.0064096450805664, {hms_string(epoch_elapsed)}\n",
            "Epoch 42, gen loss=0.6931461095809937,disc loss=1.0064103603363037, {hms_string(epoch_elapsed)}\n",
            "Epoch 43, gen loss=0.6931460499763489,disc loss=1.0064088106155396, {hms_string(epoch_elapsed)}\n",
            "Epoch 44, gen loss=0.6931459903717041,disc loss=1.006408929824829, {hms_string(epoch_elapsed)}\n",
            "Epoch 45, gen loss=0.6930891871452332,disc loss=1.0065020322799683, {hms_string(epoch_elapsed)}\n",
            "Epoch 46, gen loss=0.6930568814277649,disc loss=1.006995677947998, {hms_string(epoch_elapsed)}\n",
            "Epoch 47, gen loss=0.6841579079627991,disc loss=1.0450012683868408, {hms_string(epoch_elapsed)}\n",
            "Epoch 48, gen loss=0.6781357526779175,disc loss=1.1448339223861694, {hms_string(epoch_elapsed)}\n",
            "Epoch 49, gen loss=0.6890336871147156,disc loss=1.0212314128875732, {hms_string(epoch_elapsed)}\n",
            "Epoch 50, gen loss=0.6842082142829895,disc loss=1.0449986457824707, {hms_string(epoch_elapsed)}\n",
            "Training time: 0:51:01.90\n"
          ],
          "name": "stdout"
        }
      ]
    },
    {
      "cell_type": "code",
      "metadata": {
        "id": "SRKoN5ozFPvJ",
        "colab_type": "code",
        "colab": {}
      },
      "source": [
        "generator.save(os.path.join(DATA_PATH,\"face_generator.h5\"))"
      ],
      "execution_count": 19,
      "outputs": []
    },
    {
      "cell_type": "code",
      "metadata": {
        "id": "PzaaciGFQ_6K",
        "colab_type": "code",
        "colab": {
          "base_uri": "https://localhost:8080/",
          "height": 34
        },
        "outputId": "a1769ca4-b131-417d-a4f1-909c8f4a7c16"
      },
      "source": [
        ""
      ],
      "execution_count": 26,
      "outputs": [
        {
          "output_type": "execute_result",
          "data": {
            "text/plain": [
              "array([-0.2235294, -0.5921569, -0.8117647], dtype=float32)"
            ]
          },
          "metadata": {
            "tags": []
          },
          "execution_count": 26
        }
      ]
    },
    {
      "cell_type": "code",
      "metadata": {
        "id": "EKKB7_7KUZO8",
        "colab_type": "code",
        "colab": {}
      },
      "source": [
        ""
      ],
      "execution_count": null,
      "outputs": []
    }
  ]
}